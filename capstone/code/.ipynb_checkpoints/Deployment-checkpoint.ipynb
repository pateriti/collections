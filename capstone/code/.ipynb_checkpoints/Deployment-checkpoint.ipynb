{
 "cells": [
  {
   "cell_type": "code",
   "execution_count": null,
   "id": "080ce9bf-f9ac-43b7-9600-ef362cbae8d6",
   "metadata": {},
   "outputs": [],
   "source": []
  },
  {
   "cell_type": "code",
   "execution_count": 3,
   "id": "bb0fde98-97a9-4437-82a5-0126a7c93b95",
   "metadata": {},
   "outputs": [
    {
     "name": "stdout",
     "output_type": "stream",
     "text": [
      "Overwriting inference.py\n"
     ]
    }
   ],
   "source": [
    "%%writefile inference.py\n",
    "from flask import Flask, request, render_template\n",
    "import os\n",
    "import numpy as np\n",
    "from tensorflow.keras.models import load_model \n",
    "from tensorflow.keras.preprocessing import image\n",
    "from tensorflow.keras.applications.mobilenet_v2 import preprocess_input\n",
    "import yolov5\n",
    "\n",
    "#Instantiate Flask\n",
    "api = Flask(__name__)\n",
    "\n",
    "mobilenet_model = load_model('./best_estimator/mobilenet_model.h5')\n",
    "\n",
    "#Create the routes\n",
    "@api.route('/',methods = ['GET'])\n",
    "def hello():\n",
    "    # return index.html landing page\n",
    "    return render_template('index.html')\n",
    "\n",
    "#route 2: accept input data\n",
    "#Post method is used when we want to receive some data from the user\n",
    "@api.route('/predict', methods = ['POST'])\n",
    "def make_predictions():\n",
    "    #Image Classifier\n",
    "    #Get the data sent over the API\n",
    "    imagefile = request.files['imagefile']\n",
    "    image_path = './user_input_images/'+imagefile.filename\n",
    "    imagefile.save(image_path)    \n",
    "    test_image = image.load_img(image_path)\n",
    "    \n",
    "    #convert the image to a matrix of numbers to feed into model\n",
    "    test_image = image.img_to_array(test_image) # 1st: convert loaded image to array\n",
    "    \n",
    "    #2nd: https://www.tensorflow.org/api_docs/python/tf/expand_dims \n",
    "    #(to add additional 4th dummy dimension for batch on top of height, width, channel for a color image, \n",
    "    #to meet Tensorflow's expected no. of dimensions for input image\n",
    "    test_image = np.expand_dims(test_image, axis=0)\n",
    "    \n",
    "    #3rd: to pre-process inputs to be in the same format expected by MobileNetV2\n",
    "    test_image = preprocess_input(test_image) \n",
    "    result = mobilenet_model.predict(test_image) \n",
    "    brands = {'adidas': 0, 'converse': 1, 'nike': 2}\n",
    "    result = [(i, np.max(result)) for i, j in brands.items() if j == np.argmax(result)]\n",
    "    \n",
    "    #object detection\n",
    "    wgt = './best_estimator/'+'logov7.pt'\n",
    "    model = yolov5.load(wgt)    \n",
    "       \n",
    "    #set model parameters\n",
    "    model.conf = 0.25  # NMS confidence threshold\n",
    "    model.iou = 0.45  # NMS IoU threshold\n",
    "    model.agnostic = False  # NMS class-agnostic\n",
    "    model.multi_label = False  # NMS multiple labels per box\n",
    "    model.max_det = 1000  # maximum number of detections per image\n",
    "\n",
    "    # set image\n",
    "    img = image_path\n",
    "\n",
    "    # perform inference\n",
    "    results = model(img)\n",
    "    \n",
    "    # inference with larger input size\n",
    "    results = model(img, size=1280)\n",
    "    \n",
    "    # inference with test time augmentation\n",
    "    results = model(img, augment=True)\n",
    "\n",
    "    # parse results\n",
    "    predictions = results.pred[0]\n",
    "    boxes = predictions[:, :4] # x1, y1, x2, y2\n",
    "    scores = predictions[:, 4]\n",
    "    categories = predictions[:, 5]\n",
    "\n",
    "    # show detection bounding boxes on image, save to 'static' folder, set exist_ok to True to prevent creating duplicate folders\n",
    "    results.save(save_dir='static/', exist_ok=True)\n",
    "    \n",
    "    return render_template('index.html', pred_brand = str(result[0][0]), pred_conf = str(round(result[0][1],4)), image='/static/'+str(results.files[0]))\n",
    "\n",
    "#Main function that actually runs the API!\n",
    "if __name__ == '__main__':\n",
    "    api.run(host='0.0.0.0', \n",
    "            debug=True, # Debug=True ensures any changes to inference.py automatically updates the running API\n",
    "            port=int(os.environ.get(\"PORT\", 8080))\n",
    "           ) "
   ]
  },
  {
   "cell_type": "code",
   "execution_count": 5,
   "id": "4121cd03-5caf-4ccd-a124-c5502c962d69",
   "metadata": {},
   "outputs": [
    {
     "name": "stdout",
     "output_type": "stream",
     "text": [
      "Overwriting Dockerfile\n"
     ]
    }
   ],
   "source": [
    "%%writefile Dockerfile\n",
    "# Use the official lightweight Python image from\n",
    "# https://hub.docker.com/_/python\n",
    "FROM python:3.8-slim\n",
    "\n",
    "# Copy all the files needed for the app to work\n",
    "COPY inference.py .\n",
    "COPY best_estimator/ ./best_estimator\n",
    "COPY static/ ./static\n",
    "COPY templates/ ./templates\n",
    "COPY user_input_images/ ./user_input_images\n",
    "\n",
    "# Install all the necessary libraries\n",
    "RUN pip install -r ./best_estimator/requirements.txt\n",
    "\n",
    "# Run the API!\n",
    "CMD python inference.py"
   ]
  },
  {
   "cell_type": "code",
   "execution_count": 6,
   "id": "920123b5-9732-48cf-9f18-f3fcafec33fc",
   "metadata": {},
   "outputs": [
    {
     "name": "stdout",
     "output_type": "stream",
     "text": [
      "Overwriting best_estimator/requirements.txt\n"
     ]
    }
   ],
   "source": [
    "%%writefile best_estimator/requirements.txt\n",
    "numpy\n",
    "flask\n",
    "tensorflow\n",
    "yolov5"
   ]
  },
  {
   "cell_type": "code",
   "execution_count": null,
   "id": "cabf13fe-e3f3-48d7-9775-35789af34326",
   "metadata": {},
   "outputs": [],
   "source": []
  }
 ],
 "metadata": {
  "kernelspec": {
   "display_name": "Python 3 (ipykernel)",
   "language": "python",
   "name": "python3"
  },
  "language_info": {
   "codemirror_mode": {
    "name": "ipython",
    "version": 3
   },
   "file_extension": ".py",
   "mimetype": "text/x-python",
   "name": "python",
   "nbconvert_exporter": "python",
   "pygments_lexer": "ipython3",
   "version": "3.9.13"
  }
 },
 "nbformat": 4,
 "nbformat_minor": 5
}
