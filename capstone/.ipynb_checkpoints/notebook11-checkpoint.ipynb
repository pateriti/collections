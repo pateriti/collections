{
 "cells": [
  {
   "cell_type": "code",
   "execution_count": 20,
   "id": "cbe23c1b-3784-49ad-af57-88a86df7f0df",
   "metadata": {},
   "outputs": [],
   "source": [
    "import numpy as np\n",
    "import pandas as pd\n",
    "import matplotlib.pyplot as plt\n",
    "import seaborn as sns\n",
    "#import requests"
   ]
  },
  {
   "cell_type": "markdown",
   "id": "55e52c79-3e18-4b34-81e3-904ad2f052f4",
   "metadata": {},
   "source": [
    "url = 'https://data.gov.sg/api/action/datastore_search?resource_id=8a087b7c-a11b-4da8-bbb6-ac933f465acd'"
   ]
  },
  {
   "cell_type": "markdown",
   "id": "d0f17080-a2d0-47ac-94af-a81d8d8bbe73",
   "metadata": {},
   "source": [
    "res = requests.get(url)"
   ]
  },
  {
   "cell_type": "markdown",
   "id": "e37896e9-dfae-48a8-8d67-256c3a8af331",
   "metadata": {},
   "source": [
    "res.status_code"
   ]
  },
  {
   "cell_type": "markdown",
   "id": "8f3f3ad8-50d3-4208-ba57-9497b82c07da",
   "metadata": {},
   "source": [
    "sq = res.json()"
   ]
  },
  {
   "cell_type": "markdown",
   "id": "dc587527-0097-43e4-abc9-73a8710d0f92",
   "metadata": {
    "tags": []
   },
   "source": [
    "sq"
   ]
  },
  {
   "cell_type": "markdown",
   "id": "ba551ab4-7b1f-4a96-b1e0-3704c83f98bc",
   "metadata": {},
   "source": [
    "sq.keys()"
   ]
  },
  {
   "cell_type": "markdown",
   "id": "4fbbd8d1-f32d-4e25-8bd8-cfe40519f9b5",
   "metadata": {
    "tags": []
   },
   "source": [
    "data = sq['result']"
   ]
  },
  {
   "cell_type": "markdown",
   "id": "447237ed-5e03-47c8-9b17-6af20988163c",
   "metadata": {},
   "source": [
    "sales_df = pd.DataFrame(data['records'])"
   ]
  },
  {
   "cell_type": "markdown",
   "id": "b7f2611f-c15d-499f-93d6-d6cfbd9968f4",
   "metadata": {},
   "source": [
    "sales_df.shape"
   ]
  },
  {
   "cell_type": "markdown",
   "id": "9fb8a51a-8cf4-4a91-80fe-2a95fc68944c",
   "metadata": {},
   "source": [
    "sales_df.head()"
   ]
  },
  {
   "cell_type": "code",
   "execution_count": 2,
   "id": "ffda1330-170d-4208-862c-dfd82cf2bd38",
   "metadata": {},
   "outputs": [
    {
     "name": "stderr",
     "output_type": "stream",
     "text": [
      "C:\\Users\\sunbeams\\AppData\\Local\\Temp\\ipykernel_7584\\2297189616.py:1: DtypeWarning: Columns (7) have mixed types. Specify dtype option on import or set low_memory=False.\n",
      "  sales_df = pd.read_csv('../assets/cea-salespersons-property-transaction-records-residential.csv')\n"
     ]
    }
   ],
   "source": [
    "sales_df = pd.read_csv('../assets/cea-salespersons-property-transaction-records-residential.csv')\n",
    "agent_df = pd.read_csv('../assets/cea-salesperson-information.csv')"
   ]
  },
  {
   "cell_type": "code",
   "execution_count": 3,
   "id": "0e31c830-6806-44f5-a095-e05883d1f88a",
   "metadata": {},
   "outputs": [
    {
     "data": {
      "text/plain": [
       "(611856, 9)"
      ]
     },
     "execution_count": 3,
     "metadata": {},
     "output_type": "execute_result"
    }
   ],
   "source": [
    "sales_df.shape"
   ]
  },
  {
   "cell_type": "code",
   "execution_count": 7,
   "id": "6ffc49e6-22cb-4920-b5aa-af0bef9c228e",
   "metadata": {},
   "outputs": [
    {
     "name": "stdout",
     "output_type": "stream",
     "text": [
      "<class 'pandas.core.frame.DataFrame'>\n",
      "RangeIndex: 611856 entries, 0 to 611855\n",
      "Data columns (total 9 columns):\n",
      " #   Column               Non-Null Count   Dtype \n",
      "---  ------               --------------   ----- \n",
      " 0   salesperson_name     611856 non-null  object\n",
      " 1   transaction_date     611856 non-null  object\n",
      " 2   salesperson_reg_num  611856 non-null  object\n",
      " 3   property_type        611856 non-null  object\n",
      " 4   transaction_type     611856 non-null  object\n",
      " 5   represented          611856 non-null  object\n",
      " 6   town                 611856 non-null  object\n",
      " 7   district             611856 non-null  object\n",
      " 8   general_location     611856 non-null  object\n",
      "dtypes: object(9)\n",
      "memory usage: 42.0+ MB\n"
     ]
    }
   ],
   "source": [
    "sales_df.info()"
   ]
  },
  {
   "cell_type": "code",
   "execution_count": 8,
   "id": "5ebf7391-312e-4569-8732-4e3bdda1b241",
   "metadata": {},
   "outputs": [
    {
     "data": {
      "text/html": [
       "<div>\n",
       "<style scoped>\n",
       "    .dataframe tbody tr th:only-of-type {\n",
       "        vertical-align: middle;\n",
       "    }\n",
       "\n",
       "    .dataframe tbody tr th {\n",
       "        vertical-align: top;\n",
       "    }\n",
       "\n",
       "    .dataframe thead th {\n",
       "        text-align: right;\n",
       "    }\n",
       "</style>\n",
       "<table border=\"1\" class=\"dataframe\">\n",
       "  <thead>\n",
       "    <tr style=\"text-align: right;\">\n",
       "      <th></th>\n",
       "      <th>salesperson_name</th>\n",
       "      <th>transaction_date</th>\n",
       "      <th>salesperson_reg_num</th>\n",
       "      <th>property_type</th>\n",
       "      <th>transaction_type</th>\n",
       "      <th>represented</th>\n",
       "      <th>town</th>\n",
       "      <th>district</th>\n",
       "      <th>general_location</th>\n",
       "    </tr>\n",
       "  </thead>\n",
       "  <tbody>\n",
       "    <tr>\n",
       "      <th>0</th>\n",
       "      <td>MUHAMMAD NORIZZAM BIN KAMARUZAMAN</td>\n",
       "      <td>AUG-2018</td>\n",
       "      <td>R057250D</td>\n",
       "      <td>HDB</td>\n",
       "      <td>RESALE</td>\n",
       "      <td>BUYER</td>\n",
       "      <td>BUKIT PANJANG</td>\n",
       "      <td>-</td>\n",
       "      <td>-</td>\n",
       "    </tr>\n",
       "    <tr>\n",
       "      <th>1</th>\n",
       "      <td>LIM JOO HENG</td>\n",
       "      <td>AUG-2018</td>\n",
       "      <td>R011043H</td>\n",
       "      <td>HDB</td>\n",
       "      <td>RESALE</td>\n",
       "      <td>SELLER</td>\n",
       "      <td>BUKIT PANJANG</td>\n",
       "      <td>-</td>\n",
       "      <td>-</td>\n",
       "    </tr>\n",
       "    <tr>\n",
       "      <th>2</th>\n",
       "      <td>WONG TSU HAW</td>\n",
       "      <td>MAY-2017</td>\n",
       "      <td>R045055G</td>\n",
       "      <td>HDB</td>\n",
       "      <td>RESALE</td>\n",
       "      <td>SELLER</td>\n",
       "      <td>BUKIT PANJANG</td>\n",
       "      <td>-</td>\n",
       "      <td>-</td>\n",
       "    </tr>\n",
       "    <tr>\n",
       "      <th>3</th>\n",
       "      <td>TAY BEE KIAT</td>\n",
       "      <td>JUL-2018</td>\n",
       "      <td>R056733J</td>\n",
       "      <td>HDB</td>\n",
       "      <td>RESALE</td>\n",
       "      <td>SELLER</td>\n",
       "      <td>BUKIT PANJANG</td>\n",
       "      <td>-</td>\n",
       "      <td>-</td>\n",
       "    </tr>\n",
       "    <tr>\n",
       "      <th>4</th>\n",
       "      <td>SNG KIM ENG ANGELA</td>\n",
       "      <td>JAN-2017</td>\n",
       "      <td>R045695D</td>\n",
       "      <td>HDB</td>\n",
       "      <td>RESALE</td>\n",
       "      <td>BUYER</td>\n",
       "      <td>SENGKANG</td>\n",
       "      <td>-</td>\n",
       "      <td>-</td>\n",
       "    </tr>\n",
       "  </tbody>\n",
       "</table>\n",
       "</div>"
      ],
      "text/plain": [
       "                    salesperson_name transaction_date salesperson_reg_num  \\\n",
       "0  MUHAMMAD NORIZZAM BIN KAMARUZAMAN         AUG-2018            R057250D   \n",
       "1                       LIM JOO HENG         AUG-2018            R011043H   \n",
       "2                       WONG TSU HAW         MAY-2017            R045055G   \n",
       "3                       TAY BEE KIAT         JUL-2018            R056733J   \n",
       "4                 SNG KIM ENG ANGELA         JAN-2017            R045695D   \n",
       "\n",
       "  property_type transaction_type represented           town district  \\\n",
       "0           HDB           RESALE       BUYER  BUKIT PANJANG        -   \n",
       "1           HDB           RESALE      SELLER  BUKIT PANJANG        -   \n",
       "2           HDB           RESALE      SELLER  BUKIT PANJANG        -   \n",
       "3           HDB           RESALE      SELLER  BUKIT PANJANG        -   \n",
       "4           HDB           RESALE       BUYER       SENGKANG        -   \n",
       "\n",
       "  general_location  \n",
       "0                -  \n",
       "1                -  \n",
       "2                -  \n",
       "3                -  \n",
       "4                -  "
      ]
     },
     "execution_count": 8,
     "metadata": {},
     "output_type": "execute_result"
    }
   ],
   "source": [
    "sales_df.head()"
   ]
  },
  {
   "cell_type": "code",
   "execution_count": 10,
   "id": "a001e4d8-c4ba-4d83-b5c5-0e278c147d85",
   "metadata": {},
   "outputs": [
    {
     "data": {
      "text/plain": [
       "(34955, 6)"
      ]
     },
     "execution_count": 10,
     "metadata": {},
     "output_type": "execute_result"
    }
   ],
   "source": [
    "agent_df.shape"
   ]
  },
  {
   "cell_type": "code",
   "execution_count": 11,
   "id": "0025cc84-629d-4011-be1c-81fd8dfb9313",
   "metadata": {},
   "outputs": [
    {
     "name": "stdout",
     "output_type": "stream",
     "text": [
      "<class 'pandas.core.frame.DataFrame'>\n",
      "RangeIndex: 34955 entries, 0 to 34954\n",
      "Data columns (total 6 columns):\n",
      " #   Column                   Non-Null Count  Dtype \n",
      "---  ------                   --------------  ----- \n",
      " 0   salesperson_name         34955 non-null  object\n",
      " 1   registration_no          34955 non-null  object\n",
      " 2   registration_start_date  34955 non-null  object\n",
      " 3   registration_end_date    34955 non-null  object\n",
      " 4   estate_agent_name        34955 non-null  object\n",
      " 5   estate_agent_license_no  34955 non-null  object\n",
      "dtypes: object(6)\n",
      "memory usage: 1.6+ MB\n"
     ]
    }
   ],
   "source": [
    "agent_df.info()"
   ]
  },
  {
   "cell_type": "code",
   "execution_count": 12,
   "id": "78d57116-caeb-47e7-99d0-c2ef76a5956b",
   "metadata": {},
   "outputs": [
    {
     "data": {
      "text/html": [
       "<div>\n",
       "<style scoped>\n",
       "    .dataframe tbody tr th:only-of-type {\n",
       "        vertical-align: middle;\n",
       "    }\n",
       "\n",
       "    .dataframe tbody tr th {\n",
       "        vertical-align: top;\n",
       "    }\n",
       "\n",
       "    .dataframe thead th {\n",
       "        text-align: right;\n",
       "    }\n",
       "</style>\n",
       "<table border=\"1\" class=\"dataframe\">\n",
       "  <thead>\n",
       "    <tr style=\"text-align: right;\">\n",
       "      <th></th>\n",
       "      <th>salesperson_name</th>\n",
       "      <th>registration_no</th>\n",
       "      <th>registration_start_date</th>\n",
       "      <th>registration_end_date</th>\n",
       "      <th>estate_agent_name</th>\n",
       "      <th>estate_agent_license_no</th>\n",
       "    </tr>\n",
       "  </thead>\n",
       "  <tbody>\n",
       "    <tr>\n",
       "      <th>0</th>\n",
       "      <td>WANG SOON YEE, LARRY</td>\n",
       "      <td>P015022G</td>\n",
       "      <td>2011-01-01</td>\n",
       "      <td>2022-12-31</td>\n",
       "      <td>MCDOWELL REALTY NETWORK</td>\n",
       "      <td>L3006213G</td>\n",
       "    </tr>\n",
       "    <tr>\n",
       "      <th>1</th>\n",
       "      <td>MOHAMED RAHIMATULLAH S/O S M IBRAHIM (MOHD)</td>\n",
       "      <td>R015018I</td>\n",
       "      <td>2011-01-01</td>\n",
       "      <td>2022-12-31</td>\n",
       "      <td>MCDOWELL REALTY NETWORK</td>\n",
       "      <td>L3006213G</td>\n",
       "    </tr>\n",
       "    <tr>\n",
       "      <th>2</th>\n",
       "      <td>SALBIAH BINTE RAMLI (SALBIAH)</td>\n",
       "      <td>R015021I</td>\n",
       "      <td>2011-01-01</td>\n",
       "      <td>2023-12-31</td>\n",
       "      <td>MCDOWELL REALTY NETWORK</td>\n",
       "      <td>L3006213G</td>\n",
       "    </tr>\n",
       "    <tr>\n",
       "      <th>3</th>\n",
       "      <td>LEE YAT SENG (STEVEN)</td>\n",
       "      <td>R015024C</td>\n",
       "      <td>2011-01-01</td>\n",
       "      <td>2022-12-31</td>\n",
       "      <td>MCDOWELL REALTY NETWORK</td>\n",
       "      <td>L3006213G</td>\n",
       "    </tr>\n",
       "    <tr>\n",
       "      <th>4</th>\n",
       "      <td>DAVID SIM YEOW KWEE (DAVID SIM BBM)</td>\n",
       "      <td>R015027H</td>\n",
       "      <td>2011-01-01</td>\n",
       "      <td>2023-12-31</td>\n",
       "      <td>MCDOWELL REALTY NETWORK</td>\n",
       "      <td>L3006213G</td>\n",
       "    </tr>\n",
       "  </tbody>\n",
       "</table>\n",
       "</div>"
      ],
      "text/plain": [
       "                              salesperson_name registration_no  \\\n",
       "0                         WANG SOON YEE, LARRY        P015022G   \n",
       "1  MOHAMED RAHIMATULLAH S/O S M IBRAHIM (MOHD)        R015018I   \n",
       "2                SALBIAH BINTE RAMLI (SALBIAH)        R015021I   \n",
       "3                        LEE YAT SENG (STEVEN)        R015024C   \n",
       "4          DAVID SIM YEOW KWEE (DAVID SIM BBM)        R015027H   \n",
       "\n",
       "  registration_start_date registration_end_date        estate_agent_name  \\\n",
       "0              2011-01-01            2022-12-31  MCDOWELL REALTY NETWORK   \n",
       "1              2011-01-01            2022-12-31  MCDOWELL REALTY NETWORK   \n",
       "2              2011-01-01            2023-12-31  MCDOWELL REALTY NETWORK   \n",
       "3              2011-01-01            2022-12-31  MCDOWELL REALTY NETWORK   \n",
       "4              2011-01-01            2023-12-31  MCDOWELL REALTY NETWORK   \n",
       "\n",
       "  estate_agent_license_no  \n",
       "0               L3006213G  \n",
       "1               L3006213G  \n",
       "2               L3006213G  \n",
       "3               L3006213G  \n",
       "4               L3006213G  "
      ]
     },
     "execution_count": 12,
     "metadata": {},
     "output_type": "execute_result"
    }
   ],
   "source": [
    "agent_df.head()"
   ]
  },
  {
   "cell_type": "code",
   "execution_count": 16,
   "id": "132ce2e3-fd55-47d2-b8be-b2d323670d47",
   "metadata": {},
   "outputs": [],
   "source": [
    "combined_sales_df = sales_df.merge(agent_df,how='left',left_on='salesperson_reg_num',right_on='registration_no')"
   ]
  },
  {
   "cell_type": "code",
   "execution_count": 17,
   "id": "ea94696b-0cb2-4a6b-922b-717d20a1658c",
   "metadata": {},
   "outputs": [
    {
     "data": {
      "text/plain": [
       "(611856, 15)"
      ]
     },
     "execution_count": 17,
     "metadata": {},
     "output_type": "execute_result"
    }
   ],
   "source": [
    "combined_sales_df.shape"
   ]
  },
  {
   "cell_type": "code",
   "execution_count": 18,
   "id": "4754f7da-fbeb-4e40-97a1-3c1a8483b254",
   "metadata": {},
   "outputs": [
    {
     "data": {
      "text/html": [
       "<div>\n",
       "<style scoped>\n",
       "    .dataframe tbody tr th:only-of-type {\n",
       "        vertical-align: middle;\n",
       "    }\n",
       "\n",
       "    .dataframe tbody tr th {\n",
       "        vertical-align: top;\n",
       "    }\n",
       "\n",
       "    .dataframe thead th {\n",
       "        text-align: right;\n",
       "    }\n",
       "</style>\n",
       "<table border=\"1\" class=\"dataframe\">\n",
       "  <thead>\n",
       "    <tr style=\"text-align: right;\">\n",
       "      <th></th>\n",
       "      <th>salesperson_name_x</th>\n",
       "      <th>transaction_date</th>\n",
       "      <th>salesperson_reg_num</th>\n",
       "      <th>property_type</th>\n",
       "      <th>transaction_type</th>\n",
       "      <th>represented</th>\n",
       "      <th>town</th>\n",
       "      <th>district</th>\n",
       "      <th>general_location</th>\n",
       "      <th>salesperson_name_y</th>\n",
       "      <th>registration_no</th>\n",
       "      <th>registration_start_date</th>\n",
       "      <th>registration_end_date</th>\n",
       "      <th>estate_agent_name</th>\n",
       "      <th>estate_agent_license_no</th>\n",
       "    </tr>\n",
       "  </thead>\n",
       "  <tbody>\n",
       "    <tr>\n",
       "      <th>0</th>\n",
       "      <td>MUHAMMAD NORIZZAM BIN KAMARUZAMAN</td>\n",
       "      <td>AUG-2018</td>\n",
       "      <td>R057250D</td>\n",
       "      <td>HDB</td>\n",
       "      <td>RESALE</td>\n",
       "      <td>BUYER</td>\n",
       "      <td>BUKIT PANJANG</td>\n",
       "      <td>-</td>\n",
       "      <td>-</td>\n",
       "      <td>MUHAMMAD NORIZZAM BIN KAMARUZAMAN (NORIZZAM (Z...</td>\n",
       "      <td>R057250D</td>\n",
       "      <td>2020-01-01</td>\n",
       "      <td>2022-12-31</td>\n",
       "      <td>ORANGETEE &amp; TIE PTE. LTD.</td>\n",
       "      <td>L3009250K</td>\n",
       "    </tr>\n",
       "    <tr>\n",
       "      <th>1</th>\n",
       "      <td>LIM JOO HENG</td>\n",
       "      <td>AUG-2018</td>\n",
       "      <td>R011043H</td>\n",
       "      <td>HDB</td>\n",
       "      <td>RESALE</td>\n",
       "      <td>SELLER</td>\n",
       "      <td>BUKIT PANJANG</td>\n",
       "      <td>-</td>\n",
       "      <td>-</td>\n",
       "      <td>LIM JOO HENG (GEORGE LIM)</td>\n",
       "      <td>R011043H</td>\n",
       "      <td>2011-01-01</td>\n",
       "      <td>2022-12-31</td>\n",
       "      <td>PROPNEX REALTY PTE. LTD.</td>\n",
       "      <td>L3008022J</td>\n",
       "    </tr>\n",
       "    <tr>\n",
       "      <th>2</th>\n",
       "      <td>WONG TSU HAW</td>\n",
       "      <td>MAY-2017</td>\n",
       "      <td>R045055G</td>\n",
       "      <td>HDB</td>\n",
       "      <td>RESALE</td>\n",
       "      <td>SELLER</td>\n",
       "      <td>BUKIT PANJANG</td>\n",
       "      <td>-</td>\n",
       "      <td>-</td>\n",
       "      <td>WONG TSU HAW (JACK)</td>\n",
       "      <td>R045055G</td>\n",
       "      <td>2022-01-01</td>\n",
       "      <td>2022-12-31</td>\n",
       "      <td>PROPNEX REALTY PTE. LTD.</td>\n",
       "      <td>L3008022J</td>\n",
       "    </tr>\n",
       "    <tr>\n",
       "      <th>3</th>\n",
       "      <td>TAY BEE KIAT</td>\n",
       "      <td>JUL-2018</td>\n",
       "      <td>R056733J</td>\n",
       "      <td>HDB</td>\n",
       "      <td>RESALE</td>\n",
       "      <td>SELLER</td>\n",
       "      <td>BUKIT PANJANG</td>\n",
       "      <td>-</td>\n",
       "      <td>-</td>\n",
       "      <td>TAY BEE KIAT (JOANNE)</td>\n",
       "      <td>R056733J</td>\n",
       "      <td>2016-01-27</td>\n",
       "      <td>2022-12-31</td>\n",
       "      <td>ERA REALTY NETWORK PTE LTD</td>\n",
       "      <td>L3002382K</td>\n",
       "    </tr>\n",
       "    <tr>\n",
       "      <th>4</th>\n",
       "      <td>SNG KIM ENG ANGELA</td>\n",
       "      <td>JAN-2017</td>\n",
       "      <td>R045695D</td>\n",
       "      <td>HDB</td>\n",
       "      <td>RESALE</td>\n",
       "      <td>BUYER</td>\n",
       "      <td>SENGKANG</td>\n",
       "      <td>-</td>\n",
       "      <td>-</td>\n",
       "      <td>SNG KIM ENG ANGELA (Angela Sng)</td>\n",
       "      <td>R045695D</td>\n",
       "      <td>2018-03-08</td>\n",
       "      <td>2022-12-31</td>\n",
       "      <td>HUTTONS ASIA PTE. LTD.</td>\n",
       "      <td>L3008899K</td>\n",
       "    </tr>\n",
       "  </tbody>\n",
       "</table>\n",
       "</div>"
      ],
      "text/plain": [
       "                  salesperson_name_x transaction_date salesperson_reg_num  \\\n",
       "0  MUHAMMAD NORIZZAM BIN KAMARUZAMAN         AUG-2018            R057250D   \n",
       "1                       LIM JOO HENG         AUG-2018            R011043H   \n",
       "2                       WONG TSU HAW         MAY-2017            R045055G   \n",
       "3                       TAY BEE KIAT         JUL-2018            R056733J   \n",
       "4                 SNG KIM ENG ANGELA         JAN-2017            R045695D   \n",
       "\n",
       "  property_type transaction_type represented           town district  \\\n",
       "0           HDB           RESALE       BUYER  BUKIT PANJANG        -   \n",
       "1           HDB           RESALE      SELLER  BUKIT PANJANG        -   \n",
       "2           HDB           RESALE      SELLER  BUKIT PANJANG        -   \n",
       "3           HDB           RESALE      SELLER  BUKIT PANJANG        -   \n",
       "4           HDB           RESALE       BUYER       SENGKANG        -   \n",
       "\n",
       "  general_location                                 salesperson_name_y  \\\n",
       "0                -  MUHAMMAD NORIZZAM BIN KAMARUZAMAN (NORIZZAM (Z...   \n",
       "1                -                          LIM JOO HENG (GEORGE LIM)   \n",
       "2                -                                WONG TSU HAW (JACK)   \n",
       "3                -                              TAY BEE KIAT (JOANNE)   \n",
       "4                -                    SNG KIM ENG ANGELA (Angela Sng)   \n",
       "\n",
       "  registration_no registration_start_date registration_end_date  \\\n",
       "0        R057250D              2020-01-01            2022-12-31   \n",
       "1        R011043H              2011-01-01            2022-12-31   \n",
       "2        R045055G              2022-01-01            2022-12-31   \n",
       "3        R056733J              2016-01-27            2022-12-31   \n",
       "4        R045695D              2018-03-08            2022-12-31   \n",
       "\n",
       "            estate_agent_name estate_agent_license_no  \n",
       "0   ORANGETEE & TIE PTE. LTD.               L3009250K  \n",
       "1    PROPNEX REALTY PTE. LTD.               L3008022J  \n",
       "2    PROPNEX REALTY PTE. LTD.               L3008022J  \n",
       "3  ERA REALTY NETWORK PTE LTD               L3002382K  \n",
       "4      HUTTONS ASIA PTE. LTD.               L3008899K  "
      ]
     },
     "execution_count": 18,
     "metadata": {},
     "output_type": "execute_result"
    }
   ],
   "source": [
    "combined_sales_df.head()"
   ]
  },
  {
   "cell_type": "code",
   "execution_count": 23,
   "id": "8104f7ca-b116-42f4-ba6c-de5f097e95eb",
   "metadata": {},
   "outputs": [
    {
     "data": {
      "text/plain": [
       "JAN-2021    20636\n",
       "MAY-2021    19187\n",
       "DEC-2021    19186\n",
       "JUN-2021    19047\n",
       "APR-2021    19026\n",
       "            ...  \n",
       "MAY-2019     2054\n",
       "APR-2019     2033\n",
       "MAR-2019     1965\n",
       "FEB-2019     1845\n",
       "OCT-2022     1447\n",
       "Name: transaction_date, Length: 70, dtype: int64"
      ]
     },
     "execution_count": 23,
     "metadata": {},
     "output_type": "execute_result"
    }
   ],
   "source": [
    "combined_sales_df['transaction_date'].value_counts()"
   ]
  },
  {
   "cell_type": "code",
   "execution_count": 25,
   "id": "de52a636-8302-4ecc-af62-f4ae34097874",
   "metadata": {},
   "outputs": [
    {
     "data": {
      "text/plain": [
       "HDB                       303761\n",
       "CONDOMINIUM_APARTMENTS    268122\n",
       "LANDED                     32339\n",
       "EXECUTIVE_CONDOMINIUM       5842\n",
       "STRATA_LANDED               1792\n",
       "Name: property_type, dtype: int64"
      ]
     },
     "execution_count": 25,
     "metadata": {},
     "output_type": "execute_result"
    }
   ],
   "source": [
    "combined_sales_df['property_type'].value_counts()"
   ]
  },
  {
   "cell_type": "code",
   "execution_count": 24,
   "id": "0e94afee-15b4-4ce8-b231-0f170bdf0895",
   "metadata": {},
   "outputs": [
    {
     "data": {
      "text/plain": [
       "WHOLE RENTAL    271257\n",
       "RESALE          264327\n",
       "ROOM RENTAL      53189\n",
       "NEW SALE         22989\n",
       "SUB-SALE            94\n",
       "Name: transaction_type, dtype: int64"
      ]
     },
     "execution_count": 24,
     "metadata": {},
     "output_type": "execute_result"
    }
   ],
   "source": [
    "combined_sales_df['transaction_type'].value_counts()"
   ]
  },
  {
   "cell_type": "code",
   "execution_count": null,
   "id": "8cd9f6c2-1eb7-473d-8861-753b53a30dc7",
   "metadata": {},
   "outputs": [],
   "source": []
  }
 ],
 "metadata": {
  "kernelspec": {
   "display_name": "Python 3 (ipykernel)",
   "language": "python",
   "name": "python3"
  },
  "language_info": {
   "codemirror_mode": {
    "name": "ipython",
    "version": 3
   },
   "file_extension": ".py",
   "mimetype": "text/x-python",
   "name": "python",
   "nbconvert_exporter": "python",
   "pygments_lexer": "ipython3",
   "version": "3.9.13"
  }
 },
 "nbformat": 4,
 "nbformat_minor": 5
}
